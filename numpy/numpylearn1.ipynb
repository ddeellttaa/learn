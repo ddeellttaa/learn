{
 "cells": [
  {
   "cell_type": "code",
   "execution_count": 3,
   "metadata": {},
   "outputs": [
    {
     "name": "stdout",
     "output_type": "stream",
     "text": [
      "[[[[ 0.1448484  -0.40350107  0.71423521  0.05344799  0.269986  ]\n",
      "   [-0.91183584  0.74984469  0.27942318  0.83680281 -1.4169013 ]\n",
      "   [-0.44401617  1.03052969  0.76040596 -0.19793564 -0.0375865 ]\n",
      "   [-0.51327382  0.98945437 -1.28163655 -0.36022425 -0.64666532]]\n",
      "\n",
      "  [[-0.60642845  3.11450504  0.92633265  0.22141031 -0.08198338]\n",
      "   [ 2.62365172 -0.38167471 -0.25388065  0.32364838 -0.26858934]\n",
      "   [ 0.28423849  0.04770949  1.02068087 -0.10759496  0.93853532]\n",
      "   [ 0.98193641  1.89002848 -0.85083772 -0.6726459  -0.90289904]]\n",
      "\n",
      "  [[ 0.16573779 -0.44221714  1.48227047 -1.30275762  0.39125191]\n",
      "   [ 0.32442113  0.5448435  -1.44744854  1.77946318  0.06838365]\n",
      "   [ 1.39149087  1.59832886 -0.89586177 -0.03243893  0.66225285]\n",
      "   [ 1.03224231 -1.14874697  0.34023701  0.34037807 -0.65905573]]]]\n"
     ]
    }
   ],
   "source": [
    "import numpy as np;\n",
    "data = np.random.randn(1,3,4,5)\n",
    "print(data)"
   ]
  },
  {
   "cell_type": "code",
   "execution_count": 4,
   "metadata": {},
   "outputs": [
    {
     "name": "stdout",
     "output_type": "stream",
     "text": [
      "[[[1 2 3 4]\n",
      "  [5 6 7 8]\n",
      "  [2 3 5 6]]]\n"
     ]
    }
   ],
   "source": [
    "data2 = [[[1, 2, 3, 4], [5, 6, 7, 8],[2,3,5,6]]]\n",
    "arr2 = np.array(data2)\n",
    "print(arr2)"
   ]
  },
  {
   "cell_type": "code",
   "execution_count": 5,
   "metadata": {},
   "outputs": [
    {
     "name": "stdout",
     "output_type": "stream",
     "text": [
      "(1, 3, 4)\n"
     ]
    }
   ],
   "source": [
    "print(arr2.shape)"
   ]
  },
  {
   "cell_type": "code",
   "execution_count": 6,
   "metadata": {},
   "outputs": [],
   "source": [
    "import tensorflow as tf;\n",
    "a=tf.constant(32)\n",
    "b=tf.constant(10)\n"
   ]
  },
  {
   "cell_type": "code",
   "execution_count": 7,
   "metadata": {},
   "outputs": [
    {
     "ename": "ModuleNotFoundError",
     "evalue": "No module named 'abb'",
     "output_type": "error",
     "traceback": [
      "\u001b[1;31m---------------------------------------------------------------------------\u001b[0m",
      "\u001b[1;31mModuleNotFoundError\u001b[0m                       Traceback (most recent call last)",
      "\u001b[1;32m<ipython-input-7-b34651187810>\u001b[0m in \u001b[0;36m<module>\u001b[1;34m\u001b[0m\n\u001b[1;32m----> 1\u001b[1;33m \u001b[1;32mimport\u001b[0m \u001b[0mabb\u001b[0m \u001b[1;32mas\u001b[0m \u001b[0ma\u001b[0m\u001b[1;33m;\u001b[0m\u001b[1;33m\u001b[0m\u001b[1;33m\u001b[0m\u001b[0m\n\u001b[0m",
      "\u001b[1;31mModuleNotFoundError\u001b[0m: No module named 'abb'"
     ]
    }
   ],
   "source": [
    "import abb as a;"
   ]
  },
  {
   "cell_type": "code",
   "execution_count": null,
   "metadata": {},
   "outputs": [],
   "source": [
    "arr = np.arange(10)\n",
    "\n",
    "print (arr)\n",
    "#arr的第6个元素\n",
    "print (arr[5])\n",
    "#arr的第6-8个元素，[5:8]左闭右开\n",
    "print (arr[5:8])\n",
    "\n",
    "arr[5:8] = 12\n",
    "print (arr)"
   ]
  },
  {
   "cell_type": "code",
   "execution_count": null,
   "metadata": {},
   "outputs": [],
   "source": [
    "#修改切片中的操作也会转移到原数组中\n",
    "arr_slice = arr\n",
    "arr_slice[1]= 121312312\n",
    "print (arr)"
   ]
  },
  {
   "cell_type": "code",
   "execution_count": null,
   "metadata": {},
   "outputs": [],
   "source": [
    "print(data+arr2)"
   ]
  },
  {
   "cell_type": "code",
   "execution_count": 32,
   "metadata": {},
   "outputs": [
    {
     "name": "stdout",
     "output_type": "stream",
     "text": [
      "['Bob' 'Joe' 'Will' 'Will' 'a' 'b' 'c']\n",
      "[[-0.09301193  0.27201574  0.48483702  3.11196211 -0.42328532  0.7781265\n",
      "  -0.03967692]\n",
      " [-1.20614056  1.03424063 -0.49199917 -0.42733572 -1.13079089  0.64777959\n",
      "   0.47503267]\n",
      " [ 0.21269649  0.01916295  1.43477657 -0.32120781  0.9610435  -0.09512377\n",
      "   1.53496977]\n",
      " [-0.84204216 -0.1176888   0.60536572  0.48413618  1.45940878  0.30597372\n",
      "   2.19927549]\n",
      " [ 0.24349511 -1.22923098  1.26909414  0.33223729  1.84740298 -0.23409027\n",
      "  -0.51571449]\n",
      " [ 0.48346895  0.70737299  0.05830276  1.09009581  0.35961602 -0.41260768\n",
      "   0.2270602 ]\n",
      " [ 0.05346139  0.94981748 -0.06932664 -0.3756031   0.48434764  1.06380771\n",
      "  -0.66514469]]\n"
     ]
    }
   ],
   "source": [
    "names = np.array(['Bob', 'Joe', 'Will',  'Will','a','b','c'])\n",
    "data = np.random.randn(7, 7)\n",
    "\n",
    "print(names)\n",
    "print(data)"
   ]
  },
  {
   "cell_type": "code",
   "execution_count": 35,
   "metadata": {},
   "outputs": [
    {
     "ename": "TypeError",
     "evalue": "ufunc 'invert' not supported for the input types, and the inputs could not be safely coerced to any supported types according to the casting rule ''safe''",
     "output_type": "error",
     "traceback": [
      "\u001b[1;31m---------------------------------------------------------------------------\u001b[0m",
      "\u001b[1;31mTypeError\u001b[0m                                 Traceback (most recent call last)",
      "\u001b[1;32m<ipython-input-35-2a4bfb9d3e74>\u001b[0m in \u001b[0;36m<module>\u001b[1;34m\u001b[0m\n\u001b[1;32m----> 1\u001b[1;33m \u001b[0mprint\u001b[0m\u001b[1;33m(\u001b[0m\u001b[1;33m~\u001b[0m\u001b[0mdata\u001b[0m\u001b[1;33m[\u001b[0m\u001b[0mnames\u001b[0m\u001b[1;33m==\u001b[0m \u001b[1;34m'Bob'\u001b[0m\u001b[1;33m,\u001b[0m\u001b[0mnames\u001b[0m\u001b[1;33m==\u001b[0m \u001b[1;34m'Bob'\u001b[0m\u001b[1;33m]\u001b[0m\u001b[1;33m)\u001b[0m\u001b[1;33m\u001b[0m\u001b[1;33m\u001b[0m\u001b[0m\n\u001b[0m",
      "\u001b[1;31mTypeError\u001b[0m: ufunc 'invert' not supported for the input types, and the inputs could not be safely coerced to any supported types according to the casting rule ''safe''"
     ]
    }
   ],
   "source": [
    "print(data[names== 'Bob',names== 'Bob'])"
   ]
  },
  {
   "cell_type": "code",
   "execution_count": 38,
   "metadata": {},
   "outputs": [
    {
     "name": "stdout",
     "output_type": "stream",
     "text": [
      "[ True False  True  True False False False]\n",
      "[[-0.09301193  0.27201574  0.48483702  3.11196211 -0.42328532  0.7781265\n",
      "  -0.03967692]\n",
      " [ 0.21269649  0.01916295  1.43477657 -0.32120781  0.9610435  -0.09512377\n",
      "   1.53496977]\n",
      " [-0.84204216 -0.1176888   0.60536572  0.48413618  1.45940878  0.30597372\n",
      "   2.19927549]]\n"
     ]
    }
   ],
   "source": [
    "mask = (names == 'Bob') | (names == 'Will')\n",
    "print(mask)\n",
    "print(data[mask])"
   ]
  },
  {
   "cell_type": "code",
   "execution_count": null,
   "metadata": {},
   "outputs": [],
   "source": []
  }
 ],
 "metadata": {
  "kernelspec": {
   "display_name": "Python 3",
   "language": "python",
   "name": "python3"
  },
  "language_info": {
   "codemirror_mode": {
    "name": "ipython",
    "version": 3
   },
   "file_extension": ".py",
   "mimetype": "text/x-python",
   "name": "python",
   "nbconvert_exporter": "python",
   "pygments_lexer": "ipython3",
   "version": "3.7.3"
  }
 },
 "nbformat": 4,
 "nbformat_minor": 2
}
