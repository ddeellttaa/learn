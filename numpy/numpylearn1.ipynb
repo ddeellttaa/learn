{
 "cells": [
  {
   "cell_type": "code",
   "execution_count": 11,
   "metadata": {},
   "outputs": [
    {
     "name": "stdout",
     "output_type": "stream",
     "text": [
      "[[[[ 1.00316826 -0.11539229  1.60410744 -0.13175675 -0.25643241]\n",
      "   [-0.31762759  2.33797788 -1.463449    0.38273028  1.27924857]\n",
      "   [-0.44690332 -0.09827596  0.35761392  0.13739498  0.06634914]\n",
      "   [ 0.86934825  1.31083336 -0.12955438 -1.10273999 -0.34067521]]\n",
      "\n",
      "  [[ 0.17894748 -0.48326395  0.56070189  0.95662339 -0.46000329]\n",
      "   [ 0.15596059  0.30897195  0.76478546 -1.75154081  1.1631675 ]\n",
      "   [-0.33366275 -0.21654871  0.13487263 -0.94418912 -0.71711489]\n",
      "   [ 2.27958074  0.38989575  0.97061026  1.46897868 -1.53093972]]\n",
      "\n",
      "  [[ 0.34695725 -1.24006583  0.83120239  1.41137809 -0.03046829]\n",
      "   [ 0.21835754 -0.17173252 -1.03443562  0.55227946 -1.63310314]\n",
      "   [-1.50485872  0.36852839  0.28654382  1.00364067 -0.87559212]\n",
      "   [-0.44520512  1.69899721  1.24124461 -1.1789688  -0.17700729]]]]\n"
     ]
    }
   ],
   "source": [
    "import numpy as np;\n",
    "data = np.random.randn(1,3,4,5)\n",
    "print(data)"
   ]
  },
  {
   "cell_type": "code",
   "execution_count": 19,
   "metadata": {},
   "outputs": [
    {
     "name": "stdout",
     "output_type": "stream",
     "text": [
      "[[[1 2 3 4]\n",
      "  [5 6 7 8]\n",
      "  [2 3 5 6]]]\n"
     ]
    }
   ],
   "source": [
    "data2 = [[[1, 2, 3, 4], [5, 6, 7, 8],[2,3,5,6]]]\n",
    "arr2 = np.array(data2)\n",
    "print(arr2)"
   ]
  },
  {
   "cell_type": "code",
   "execution_count": 20,
   "metadata": {},
   "outputs": [
    {
     "name": "stdout",
     "output_type": "stream",
     "text": [
      "(1, 3, 4)\n"
     ]
    }
   ],
   "source": [
    "print(arr2.shape)"
   ]
  },
  {
   "cell_type": "code",
   "execution_count": null,
   "metadata": {},
   "outputs": [],
   "source": []
  }
 ],
 "metadata": {
  "kernelspec": {
   "display_name": "Python 3",
   "language": "python",
   "name": "python3"
  },
  "language_info": {
   "codemirror_mode": {
    "name": "ipython",
    "version": 3
   },
   "file_extension": ".py",
   "mimetype": "text/x-python",
   "name": "python",
   "nbconvert_exporter": "python",
   "pygments_lexer": "ipython3",
   "version": "3.7.3"
  }
 },
 "nbformat": 4,
 "nbformat_minor": 2
}
